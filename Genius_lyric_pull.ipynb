{
 "cells": [
  {
   "cell_type": "code",
   "execution_count": 17,
   "metadata": {},
   "outputs": [
    {
     "name": "stdout",
     "output_type": "stream",
     "text": [
      "Requirement already satisfied: lyricsgenius in c:\\users\\mikan\\anaconda3\\envs\\pythondata\\lib\\site-packages (2.0.0)\n",
      "Requirement already satisfied: requests>=2.20.0 in c:\\users\\mikan\\anaconda3\\envs\\pythondata\\lib\\site-packages (from lyricsgenius) (2.24.0)\n",
      "Requirement already satisfied: beautifulsoup4==4.6.0 in c:\\users\\mikan\\anaconda3\\envs\\pythondata\\lib\\site-packages (from lyricsgenius) (4.6.0)\n",
      "Requirement already satisfied: urllib3!=1.25.0,!=1.25.1,<1.26,>=1.21.1 in c:\\users\\mikan\\anaconda3\\envs\\pythondata\\lib\\site-packages (from requests>=2.20.0->lyricsgenius) (1.25.9)\n",
      "Requirement already satisfied: certifi>=2017.4.17 in c:\\users\\mikan\\anaconda3\\envs\\pythondata\\lib\\site-packages (from requests>=2.20.0->lyricsgenius) (2019.11.28)\n",
      "Requirement already satisfied: chardet<4,>=3.0.2 in c:\\users\\mikan\\anaconda3\\envs\\pythondata\\lib\\site-packages (from requests>=2.20.0->lyricsgenius) (3.0.4)\n",
      "Requirement already satisfied: idna<3,>=2.5 in c:\\users\\mikan\\anaconda3\\envs\\pythondata\\lib\\site-packages (from requests>=2.20.0->lyricsgenius) (2.10)\n",
      "Note: you may need to restart the kernel to use updated packages.\n"
     ]
    },
    {
     "name": "stderr",
     "output_type": "stream",
     "text": [
      "WARNING: You are using pip version 20.2.2; however, version 20.2.3 is available.\n",
      "You should consider upgrading via the 'C:\\Users\\mikan\\Anaconda3\\envs\\PythonData\\python.exe -m pip install --upgrade pip' command.\n"
     ]
    }
   ],
   "source": [
    "pip install lyricsgenius"
   ]
  },
  {
   "cell_type": "code",
   "execution_count": 18,
   "metadata": {},
   "outputs": [],
   "source": [
    "import lyricsgenius as lg\n",
    "import json\n",
    "import pandas as pd"
   ]
  },
  {
   "cell_type": "code",
   "execution_count": 19,
   "metadata": {},
   "outputs": [],
   "source": [
    "from config import *"
   ]
  },
  {
   "cell_type": "code",
   "execution_count": 22,
   "metadata": {},
   "outputs": [
    {
     "name": "stdout",
     "output_type": "stream",
     "text": [
      "<lyricsgenius.api.Genius object at 0x000002474E85C2C8>\n"
     ]
    }
   ],
   "source": [
    "genius = lg.Genius('MD0ajPajVSw4RqC2zRWUzUDrYNxHnl9LayO1B8SNXFikj0s5b1FaI4Mh8mvzHKO-')\n",
    "print(genius)"
   ]
  },
  {
   "cell_type": "code",
   "execution_count": 27,
   "metadata": {},
   "outputs": [
    {
     "name": "stdout",
     "output_type": "stream",
     "text": [
      "Searching for songs by Luke Combs...\n",
      "\n",
      "Song 1: \"1, 2 Many\"\n",
      "Song 2: \"All Over Again\"\n",
      "Song 3: \"A Long Way\"\n",
      "Song 4: \"Angels Workin’ Overtime\"\n",
      "Song 5: \"Beautiful Crazy\"\n",
      "Song 6: \"Beautiful Crazy (Acoustic)\"\n",
      "Song 7: \"Beautiful Crazy (Leon Bridges Version)\"\n",
      "Song 8: \"Be Careful What You Wish For\"\n",
      "Song 9: \"Beer Can\"\n",
      "Song 10: \"Beer Never Broke My Heart\"\n",
      "\n",
      "Reached user-specified song limit (10).\n",
      "Done. Found 10 songs.\n",
      "Luke Combs, 10 songs\n"
     ]
    }
   ],
   "source": [
    "artist = genius.search_artist(\"Luke Combs\", max_songs=10, sort=\"title\")\n",
    "print(artist)"
   ]
  },
  {
   "cell_type": "code",
   "execution_count": 28,
   "metadata": {},
   "outputs": [
    {
     "name": "stdout",
     "output_type": "stream",
     "text": [
      "Searching for songs by Luke Combs...\n",
      "\n",
      "Song 1: \"1, 2 Many\"\n",
      "Song 2: \"All Over Again\"\n",
      "Song 3: \"A Long Way\"\n",
      "Song 4: \"Angels Workin’ Overtime\"\n",
      "Song 5: \"Beautiful Crazy\"\n",
      "Song 6: \"Beautiful Crazy (Acoustic)\"\n",
      "Song 7: \"Beautiful Crazy (Leon Bridges Version)\"\n",
      "Song 8: \"Be Careful What You Wish For\"\n",
      "Song 9: \"Beer Can\"\n",
      "Song 10: \"Beer Never Broke My Heart\"\n",
      "Song 11: \"Better Together\"\n",
      "Song 12: \"Blue Collar Boys\"\n",
      "Song 13: \"Can I Get an Outlaw?\"\n",
      "Song 14: \"Cold As You\"\n",
      "Song 15: \"Dear Today\"\n",
      "Song 16: \"Dive\"\n",
      "Song 17: \"Does To Me\"\n",
      "Song 18: \"Don’t Tempt Me\"\n",
      "Song 19: \"Even Though I’m Leaving\"\n",
      "Song 20: \"Every Little Bit Helps\"\n",
      "Song 21: \"Forever After All\"\n",
      "Song 22: \"Greystone Chapel\"\n",
      "Song 23: \"Honky Tonk Highway\"\n",
      "Song 24: \"Houston, We Got a Problem\"\n",
      "Song 25: \"Hurricane\"\n",
      "Song 26: \"I Got Away with You\"\n",
      "Song 27: \"I Know She Ain’t Ready\"\n",
      "Song 28: \"Let’s Just Be Friends\"\n",
      "Song 29: \"Let the Moonshine\"\n",
      "Song 30: \"Lonely One\"\n",
      "Song 31: \"Love You Anyway\"\n",
      "Song 32: \"Lovin’ on You\"\n",
      "Song 33: \"Memories Are Made Of\"\n",
      "Song 34: \"Moon Over Mexico\"\n",
      "Song 35: \"Must’ve Never Met You\"\n",
      "Song 36: \"My Kinda Folk\"\n",
      "Song 37: \"New Every Day\"\n",
      "Song 38: \"Nothing Like You\"\n",
      "Song 39: \"One Number Away\"\n",
      "Song 40: \"Out There\"\n",
      "Song 41: \"Ramblin’ Man\"\n",
      "Song 42: \"Reasons\"\n",
      "Song 43: \"Reasons (The Writer’s Cut)\"\n",
      "Song 44: \"Refrigerator Door\"\n",
      "Song 45: \"She Got the Best of Me\"\n",
      "Song 46: \"Sheriff You Want To\"\n",
      "Song 47: \"Six Feet Apart\"\n",
      "Song 48: \"The Other Guy\"\n",
      "Song 49: \"The Way She Rides\"\n",
      "Song 50: \"This One’s For You\"\n",
      "Song 51: \"Tomorrow Me\"\n",
      "Song 52: \"Used to Wish I Was\"\n",
      "Song 53: \"Used to You\"\n",
      "Song 54: \"What You See Is What You Get\"\n",
      "Song 55: \"When It Rains It Pours\"\n",
      "Song 56: \"Without You\"\n",
      "Done. Found 56 songs.\n",
      "Luke Combs, 56 songs\n"
     ]
    }
   ],
   "source": [
    "artist = genius.search_artist(\"Luke Combs\", sort=\"title\")\n",
    "print(artist)"
   ]
  },
  {
   "cell_type": "code",
   "execution_count": 29,
   "metadata": {},
   "outputs": [
    {
     "name": "stdout",
     "output_type": "stream",
     "text": [
      "Searching for \"What You See Is What You Get\"...\n",
      "Done.\n",
      "[Verse 1]\n",
      "I'm a puzzle\n",
      "I'm a walking contradiction\n",
      "And far from mint condition\n",
      "'Cause there's pieces I can't find\n",
      "Sometimes trouble\n",
      "A can of Cope a day addiction\n",
      "With set in stone convictions\n",
      "And a no bend bottom line\n",
      "\n",
      "[Pre-Chorus]\n",
      "I'm an easy read but I ain't no open book\n",
      "Got a knack for making things harder than they look\n",
      "\n",
      "[Chorus]\n",
      "I'm a straight shootin'\n",
      "Beer drinkin', rule breakin'\n",
      "Don't think I won't take a good thing too far\n",
      "I'm a midnightin', backslidin'\n",
      "Getaway car drivin'\n",
      "Runnin' away with your heart\n",
      "I guess be careful what you wish for is all I meant when I said\n",
      "\"What you see is what you get\"\n",
      "\n",
      "[Verse 2]\n",
      "At least I'm honest\n",
      "I don't spin it like a record\n",
      "And I ain't acting like I'm better\n",
      "Than you know I really am\n",
      "Yeah, you're dead on it\n",
      "You got me figured, I'll admit it\n",
      "Set in my ways hard-headed\n",
      "But hell, I do the best I can\n",
      "\n",
      "[Chorus]\n",
      "I'm a straight shootin'\n",
      "Beer drinkin', rule breakin'\n",
      "Don't think I won't take a good thing too far\n",
      "I'm a midnightin', backslidin'\n",
      "Getaway car drivin'\n",
      "Runnin' away with your heart\n",
      "I guess be careful what you wish for is all I meant when I said\n",
      "\"What you see is what you get\"\n",
      "\n",
      "[Bridge]\n",
      "With me ain't no tricks up these sleeves\n",
      "An acquired taste, a constant work in progress\n",
      "\n",
      "[Chorus]\n",
      "I'm a straight shootin'\n",
      "Beer drinkin', rule breakin'\n",
      "Don't think I won't take a good thing too far\n",
      "I'm a midnightin', backslidin'\n",
      "Getaway car drivin'\n",
      "Runnin' away with your heart\n",
      "I guess be careful what you wish for is all I meant when I said\n",
      "What you see is what you get\n",
      "What you see is what you get\n"
     ]
    }
   ],
   "source": [
    "song=genius.search_song('What You See Is What You Get')\n",
    "print(song.lyrics)"
   ]
  },
  {
   "cell_type": "code",
   "execution_count": 17,
   "metadata": {},
   "outputs": [
    {
     "name": "stdout",
     "output_type": "stream",
     "text": [
      "Wrote HUMBLE. to lyrics_kendricklamar_humble..json.\n"
     ]
    }
   ],
   "source": [
    "song_json=song.save_lyrics()"
   ]
  },
  {
   "cell_type": "code",
   "execution_count": 21,
   "metadata": {},
   "outputs": [
    {
     "name": "stdout",
     "output_type": "stream",
     "text": [
      "Searching for \"Countrified\"...\n",
      "Done.\n",
      "I like pretty lights and city nights\n",
      "And pretty city women to hold me tight\n",
      "But that won't change my country side\n",
      "I'm proud to tell you that I'm so countrified\n",
      "\n",
      "I'm in to cavier and long shiny cars\n",
      "Seeing the stars in the big city bars\n",
      "But I take all these things in stride\n",
      "Deep down inside I'm so countrified\n",
      "\n",
      "Well I love my grits, I love my greens\n",
      "Country motel and those sweet southern bells\n",
      "I like fried chicken like a country boy should\n",
      "And every thing that's finger licking good\n",
      "\n",
      "I like to get loud and dance in a crowd\n",
      "Go out to places where jeans are allowed\n",
      "So I can feel my country side\n",
      "I'm proud to tell you I'm so countrified\n",
      "\n",
      "Well I love my grits, I love my greens\n",
      "Country motel and those sweet southern bells\n",
      "I like fried chicken like a country boy should\n",
      "And every thing that's finger licking good\n",
      "\n",
      "I like to get loud and dance in a crowd\n",
      "Go out to places where jeans are allowed\n",
      "So I can feel my country side\n",
      "Deep down inside I'm so countrified\n",
      "\n",
      "I like pretty lights and city nights\n",
      "And pretty city women to hold me tight\n",
      "But that won't change my country side\n",
      "I'm proud to tell you that I'm so countrified\n",
      "\n",
      "I'm in to cavier and long shiny cars\n",
      "Seeing the stars in the big city bars\n",
      "But I take all these things in stride\n",
      "I'm proud to tell you that I'm so countrified\n"
     ]
    }
   ],
   "source": [
    "song2=genius.search_song('Countrified')\n",
    "print(song2.lyrics)"
   ]
  },
  {
   "cell_type": "code",
   "execution_count": null,
   "metadata": {},
   "outputs": [],
   "source": []
  }
 ],
 "metadata": {
  "kernelspec": {
   "display_name": "Python 3",
   "language": "python",
   "name": "python3"
  },
  "language_info": {
   "codemirror_mode": {
    "name": "ipython",
    "version": 3
   },
   "file_extension": ".py",
   "mimetype": "text/x-python",
   "name": "python",
   "nbconvert_exporter": "python",
   "pygments_lexer": "ipython3",
   "version": "3.7.6"
  }
 },
 "nbformat": 4,
 "nbformat_minor": 4
}
